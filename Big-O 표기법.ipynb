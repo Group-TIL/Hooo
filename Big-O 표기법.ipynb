{
 "cells": [
  {
   "cell_type": "markdown",
   "id": "ac0fde38",
   "metadata": {},
   "source": [
    "# Big-O 표기법\n",
    "- 정확한 기본연산의 횟수보다는, n이 커질 때, 수행시간이 증가하는 정도(rate of the growth of T(n) as n goes big)가 훨씬 중요\n",
    "- 수행시간 함수 T(n)을 함수 값의 증가율로 간략하게 표기\n",
    "    - ex) T(n) = 2n+5 --> T(n) = O(n)\n",
    "    - ex2) T(n) = 3n^2 + 12n + 6 --> T(n) = O(n^2)\n",
    "\n",
    "#### T(n)의 최고차항 = n이 증가함에 따흔 수행시간의 증가율\n",
    "- 1) 최고차항만 남긴다.\n",
    "- 2) 최고차항의 계수는 생략\n",
    "- 3) Big-O(최고차항)"
   ]
  },
  {
   "cell_type": "code",
   "execution_count": null,
   "id": "677e4ff7",
   "metadata": {},
   "outputs": [],
   "source": [
    "# ex1\n",
    "def increment_one(a):\n",
    "    return a+1\n",
    "\n",
    "# T(n) = 1 --> O(n^0) = O(1) "
   ]
  },
  {
   "cell_type": "code",
   "execution_count": null,
   "id": "ee72a26a",
   "metadata": {},
   "outputs": [],
   "source": [
    "# ex2\n",
    "def number_of_bits(n):\n",
    "    count = 0\n",
    "    while n > 0:\n",
    "        n = n // 2\n",
    "        count += 1\n",
    "    return count\n",
    "\n",
    "# T(n) = c * log n + 1 --> O(log n)"
   ]
  },
  {
   "cell_type": "code",
   "execution_count": null,
   "id": "2489d476",
   "metadata": {},
   "outputs": [],
   "source": [
    "# ex3\n",
    "def array_sum(A,B):\n",
    "    sum = 0 # 연산 1회\n",
    "    for i in range(len(A)-1):\n",
    "        for j in range(i, len(B)-1): # n + (n-1) + ... + 1 = n(n+1)/2\n",
    "            sum += A[i]*B[j] # 연산 3회\n",
    "    return sum\n",
    "\n",
    "# T(n) = 3n(n+1)/2 + 1 --> O(n^2)"
   ]
  },
  {
   "cell_type": "code",
   "execution_count": null,
   "id": "b9e41c1c",
   "metadata": {},
   "outputs": [],
   "source": [
    "# ex4\n",
    "# pseudo code\n",
    "algorithm mult_matrices(A, B, n)\n",
    "  input: n x n 2d matrices A, B\n",
    "  output: C = A x B\n",
    "  \n",
    "  for i = 1 to n do\n",
    "\tfor j = 1 to n do\n",
    "\t  C[i][j] = 0\n",
    "  for i = 1 to n do\n",
    "\tfor j = 1 to n do\n",
    "\t  for k = 1 to n do\n",
    "\t\tC[i][j] += A[i][k] * B[k][j]\n",
    "  return C\n",
    "end_of_algorithm\n",
    "\n",
    "# O(n^3)"
   ]
  },
  {
   "cell_type": "code",
   "execution_count": null,
   "id": "d38eac97",
   "metadata": {},
   "outputs": [],
   "source": [
    "# ex5\n",
    "def fibonacci(k):\n",
    "\tif k <= 1: return k\n",
    "\treturn fibonacci(k-1) + fibonacci(k-2)\n",
    "\n",
    "# O(2^n)"
   ]
  },
  {
   "cell_type": "markdown",
   "id": "b30a028d",
   "metadata": {},
   "source": [
    "### Big-O 예제"
   ]
  },
  {
   "cell_type": "code",
   "execution_count": 5,
   "id": "0d359ef7",
   "metadata": {},
   "outputs": [
    {
     "name": "stdout",
     "output_type": "stream",
     "text": [
      "[7, 6, 5, 4, 3, 2, 1]\n"
     ]
    }
   ],
   "source": [
    "def ex1(A):\n",
    "    n = len(A)\n",
    "    for i in range(n//2):\n",
    "        c = A[i]\n",
    "        A[i] = A[n-1-i]\n",
    "        A[n-1-i] = c\n",
    "    return A\n",
    "x = ex1([1,2,3,4,5,6,7])\n",
    "print(x)\n",
    "\n",
    "# n%2 == 0 일 때: T(n) = c * n/2\n",
    "# n%2 == 1 일 때: T(n) = c * (n-1)/2\n",
    "# T(n) --> O(n)"
   ]
  },
  {
   "cell_type": "code",
   "execution_count": 8,
   "id": "a449dd3a",
   "metadata": {},
   "outputs": [
    {
     "name": "stdout",
     "output_type": "stream",
     "text": [
      "8\n"
     ]
    }
   ],
   "source": [
    "def ex2(n):\n",
    "    count = 0\n",
    "    for i in range(n-1):\n",
    "        for j in range(n-1): # n^2회\n",
    "            k = 1\n",
    "            while k < n:\n",
    "                count += 1\n",
    "                k *= 2\n",
    "    return count\n",
    "\n",
    "print(ex2(3))"
   ]
  },
  {
   "cell_type": "code",
   "execution_count": null,
   "id": "67d17f85",
   "metadata": {},
   "outputs": [],
   "source": []
  }
 ],
 "metadata": {
  "kernelspec": {
   "display_name": "Python 3 (ipykernel)",
   "language": "python",
   "name": "python3"
  },
  "language_info": {
   "codemirror_mode": {
    "name": "ipython",
    "version": 3
   },
   "file_extension": ".py",
   "mimetype": "text/x-python",
   "name": "python",
   "nbconvert_exporter": "python",
   "pygments_lexer": "ipython3",
   "version": "3.9.7"
  }
 },
 "nbformat": 4,
 "nbformat_minor": 5
}
